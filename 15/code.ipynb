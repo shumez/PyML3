{
 "cells": [
  {
   "cell_type": "markdown",
   "metadata": {},
   "source": [
    "# 15. Classifying Images with Deep Convolutional Neural Networks"
   ]
  },
  {
   "cell_type": "code",
   "execution_count": 1,
   "metadata": {},
   "outputs": [
    {
     "name": "stdout",
     "output_type": "stream",
     "text": [
      "2019-12-21 11:00:27\n",
      "----------------------\n",
      "python\t\t3.6.7\n",
      "----------------------\n",
      "numpy\t\t1.16.2\n",
      "scipy\t\t1.1.0\n",
      "pandas\t\t0.25.1\n",
      "matplotlib\t3.1.1\n",
      "imageio\t\t2.5.0\n",
      "----------------------\n",
      "ipython\t\t7.8.0\n",
      "----------------------\n",
      "sklearn\t\t0.20.4\n",
      "tensorflow\t1.13.1\n",
      "nltk\t\t3.2.4\n"
     ]
    }
   ],
   "source": [
    "import sys\n",
    "import numpy as np\n",
    "import scipy\n",
    "import pandas as pd\n",
    "import matplotlib\n",
    "import matplotlib.pyplot as plt\n",
    "import imageio\n",
    "import IPython\n",
    "import sklearn\n",
    "import tensorflow as tf\n",
    "import nltk\n",
    "\n",
    "from IPython.display import Image\n",
    "%matplotlib inline\n",
    "\n",
    "import datetime\n",
    "dt = datetime.datetime.now()\n",
    "\n",
    "print(\n",
    "\"\"\"{}-{:02d}-{:02d} {:02d}:{:02d}:{:02d}\n",
    "----------------------\n",
    "python\\t\\t{}.{}.{}\n",
    "----------------------\n",
    "numpy\\t\\t{}\n",
    "scipy\\t\\t{}\n",
    "pandas\\t\\t{}\n",
    "matplotlib\\t{}\n",
    "imageio\\t\\t{}\n",
    "----------------------\n",
    "ipython\\t\\t{}\n",
    "----------------------\n",
    "sklearn\\t\\t{}\n",
    "tensorflow\\t{}\n",
    "nltk\\t\\t{}\"\"\"\n",
    "    .format(dt.year, dt.month, dt.day, dt.hour, dt.minute, dt.second, \n",
    "            sys.version_info.major, sys.version_info.minor, sys.version_info.micro,\n",
    "            np.__version__, \n",
    "            scipy.__version__, \n",
    "            pd.__version__, \n",
    "            matplotlib.__version__, \n",
    "            imageio.__version__,\n",
    "            IPython.__version__, \n",
    "            sklearn.__version__, \n",
    "            tf.__version__,\n",
    "            nltk.__version__))\n",
    "\n",
    "c = {'b': '#1f77b4', #blue\n",
    "     'o': '#ff7f0e', #orange\n",
    "     'g': '#2ca02c', #green\n",
    "     'r': '#d62728', #red\n",
    "     'v': '#9467bd', #violet\n",
    "     'br': '#8c564b', #brown\n",
    "     'p': '#e377c2', #pink\n",
    "     'gr': '#7f7f7f', #grey\n",
    "     'y': '#bcbd22', #yellow\n",
    "     'c': '#17becf'} #cyan"
   ]
  },
  {
   "cell_type": "markdown",
   "metadata": {},
   "source": [
    "## 15.01. The building blocks of CNNs"
   ]
  },
  {
   "cell_type": "markdown",
   "metadata": {},
   "source": [
    "### 15.01.01. Understanding CNNs and features hierachies\n",
    "### 15.01.02. Performing discrete convolutions\n",
    "### 15.01.03. Subsampling layers\n",
    "\n",
    "## 15.02. Putting everything together - implementing a CNN\n",
    "\n",
    "### 15.02.01. Working with multiple input or color channels\n",
    "### 15.02.02. Regularizing an NN with dropout\n",
    "### 15.02.03. Loss functions for classification\n",
    "\n",
    "## 15.03. Implementing a deep CNN using TensorFlow\n",
    "\n",
    "### 15.03.01. The multilayer CNN architecture\n",
    "### 15.03.02. Loading and preprocessing the data\n",
    "### 15.03.03. Implemeting a CNN using the TensorFlow Keras API\n",
    "\n",
    "#### 15.03.03.01. Configuration CNN layers in Keras\n",
    "#### 15.03.03.02. Constructing a CNN in Keras\n",
    "\n",
    "## 15.04. Gender classigcation from face images using\n",
    "\n",
    "### 15.04.01. Loading the CelebA dataset\n",
    "### 15.04.02. Image transformation and data augmentation\n",
    "### 15.04.03. Training a CNN gender classifier\n",
    "\n",
    "## 15.05. Summary"
   ]
  },
  {
   "cell_type": "code",
   "execution_count": null,
   "metadata": {},
   "outputs": [],
   "source": []
  }
 ],
 "metadata": {
  "kernelspec": {
   "display_name": "Python 3",
   "language": "python",
   "name": "python3"
  },
  "language_info": {
   "codemirror_mode": {
    "name": "ipython",
    "version": 3
   },
   "file_extension": ".py",
   "mimetype": "text/x-python",
   "name": "python",
   "nbconvert_exporter": "python",
   "pygments_lexer": "ipython3",
   "version": "3.6.7"
  }
 },
 "nbformat": 4,
 "nbformat_minor": 4
}
