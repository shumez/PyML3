{
 "cells": [
  {
   "cell_type": "markdown",
   "metadata": {},
   "source": [
    "# 12. Implementing a Multilayer Artificial Neural Network from Scratch"
   ]
  },
  {
   "cell_type": "code",
   "execution_count": 1,
   "metadata": {},
   "outputs": [
    {
     "name": "stdout",
     "output_type": "stream",
     "text": [
      "2019-12-30 14:01:47\n",
      "----------------------\n",
      "python\t\t3.6.7\n",
      "----------------------\n",
      "numpy\t\t1.16.2\n",
      "scipy\t\t1.1.0\n",
      "pandas\t\t0.25.1\n",
      "matplotlib\t3.1.1\n",
      "imageio\t\t2.5.0\n",
      "----------------------\n",
      "ipython\t\t7.8.0\n",
      "----------------------\n",
      "sklearn\t\t0.20.4\n",
      "tensorflow\t1.13.1\n",
      "nltk\t\t3.2.4\n"
     ]
    }
   ],
   "source": [
    "import sys\n",
    "import numpy as np\n",
    "import scipy\n",
    "import pandas as pd\n",
    "import matplotlib\n",
    "import matplotlib.pyplot as plt\n",
    "import imageio\n",
    "import IPython\n",
    "import sklearn\n",
    "import tensorflow as tf\n",
    "import nltk\n",
    "\n",
    "from IPython.display import Image\n",
    "%matplotlib inline\n",
    "\n",
    "import datetime\n",
    "dt = datetime.datetime.now()\n",
    "\n",
    "print(\n",
    "\"\"\"{}-{:02d}-{:02d} {:02d}:{:02d}:{:02d}\n",
    "----------------------\n",
    "python\\t\\t{}.{}.{}\n",
    "----------------------\n",
    "numpy\\t\\t{}\n",
    "scipy\\t\\t{}\n",
    "pandas\\t\\t{}\n",
    "matplotlib\\t{}\n",
    "imageio\\t\\t{}\n",
    "----------------------\n",
    "ipython\\t\\t{}\n",
    "----------------------\n",
    "sklearn\\t\\t{}\n",
    "tensorflow\\t{}\n",
    "nltk\\t\\t{}\"\"\"\n",
    "    .format(dt.year, dt.month, dt.day, dt.hour, dt.minute, dt.second, \n",
    "            sys.version_info.major, sys.version_info.minor, sys.version_info.micro,\n",
    "            np.__version__, \n",
    "            scipy.__version__, \n",
    "            pd.__version__, \n",
    "            matplotlib.__version__, \n",
    "            imageio.__version__,\n",
    "            IPython.__version__, \n",
    "            sklearn.__version__, \n",
    "            tf.__version__,\n",
    "            nltk.__version__))\n",
    "\n",
    "c = {'b': '#1f77b4', #blue\n",
    "     'o': '#ff7f0e', #orange\n",
    "     'g': '#2ca02c', #green\n",
    "     'r': '#d62728', #red\n",
    "     'v': '#9467bd', #violet\n",
    "     'br': '#8c564b', #brown\n",
    "     'p': '#e377c2', #pink\n",
    "     'gr': '#7f7f7f', #grey\n",
    "     'y': '#bcbd22', #yellow\n",
    "     'c': '#17becf'} #cyan"
   ]
  },
  {
   "cell_type": "markdown",
   "metadata": {},
   "source": [
    "## 12.01. Modeling complex functions with artificial neural entworks\n",
    "\n",
    "### 12.01.01. Single-layer neural network recap\n",
    "### 12.01.02. Introducing the multilayer neural network architecture"
   ]
  },
  {
   "cell_type": "markdown",
   "metadata": {},
   "source": [
    "### 12.01.03. Activating a neural network via forward propagation"
   ]
  },
  {
   "cell_type": "code",
   "execution_count": 11,
   "metadata": {},
   "outputs": [
    {
     "data": {
      "image/png": "[encoded data removed]",
      "text/plain": [
       "<Figure size 360x360 with 1 Axes>"
      ]
     },
     "metadata": {},
     "output_type": "display_data"
    }
   ],
   "source": [
    "def phi(z):\n",
    "    return 1 / (1 + np.exp(-z))\n",
    "\n",
    "z0, z1 = -8, 8\n",
    "z = np.linspace(z0, z1, 100)\n",
    "\n",
    "fig, ax = plt.subplots(figsize=(5, 5), facecolor='w')\n",
    "ax.set_facecolor('w')\n",
    "\n",
    "ax.plot(z, phi(z), color=c['b'], label=r'$\\phi (z) = \\frac{1}{1 + e^{-z}}$')\n",
    "ax.grid(True)\n",
    "ax.legend(loc='lower right')\n",
    "ax.set(title='Sigmoid function', xlabel=r'$z$', ylabel=r'$\\phi(z)$')\n",
    "ax.set_xlim(z0, z1)\n",
    "\n",
    "plt.tight_layout()\n",
    "# plt.savefig('fig/1204.png')\n",
    "plt.show()"
   ]
  },
  {
   "cell_type": "markdown",
   "metadata": {},
   "source": [
    "## 12.02. Classifying handwritten digits\n",
    "### 12.02.01 Obtaining and preparing the MNIST dataset\n",
    "### 12.02.02. Implementing a multilayer perceptron\n",
    "## 12.03. Training an artificial neural network\n",
    "### 12.03.01. Computing the  logistic cost function\n",
    "### 12.03.02. Developing your understanding of backpropagation\n",
    "### 12.03.03. Training neural networks via backpropagation\n",
    "## 12.04. About the convergence in neural networks\n",
    "## 12.05. A few last words about the neural network implementation\n",
    "## 12.06. Summary"
   ]
  },
  {
   "cell_type": "markdown",
   "metadata": {},
   "source": [
    "- 12.01. Modeling complex functions with artificial neural entworks\n",
    "    - 12.01.01. Single-layer neural network recap\n",
    "    - 12.01.02. Introducing the multilayer neural network architecture\n",
    "    - 12.01.03. Activating a neural network via forward propagation\n",
    "- 12.02. Classifying handwritten digits\n",
    "    - 12.02.01 Obtaining and preparing the MNIST dataset\n",
    "    - 12.02.02. Implementing a multilayer perceptron\n",
    "- 12.03. Training an artificial neural network\n",
    "    - 12.03.01. Computing the  logistic cost function\n",
    "    - 12.03.02. Developing your understanding of backpropagation\n",
    "    - 12.03.03. Training neural networks via backpropagation\n",
    "- 12.04. About the convergence in neural networks\n",
    "- 12.05. A few last words about the neural network implementation\n",
    "- 12.06. Summary"
   ]
  }
 ],
 "metadata": {
  "kernelspec": {
   "display_name": "Python 3",
   "language": "python",
   "name": "python3"
  },
  "language_info": {
   "codemirror_mode": {
    "name": "ipython",
    "version": 3
   },
   "file_extension": ".py",
   "mimetype": "text/x-python",
   "name": "python",
   "nbconvert_exporter": "python",
   "pygments_lexer": "ipython3",
   "version": "3.6.7"
  }
 },
 "nbformat": 4,
 "nbformat_minor": 4
}
