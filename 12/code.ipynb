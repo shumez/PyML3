{
 "cells": [
  {
   "cell_type": "markdown",
   "metadata": {},
   "source": [
    "# 12. Implementing a Multilayer Artificial Neural Network from Scratch"
   ]
  },
  {
   "cell_type": "code",
   "execution_count": 1,
   "metadata": {},
   "outputs": [
    {
     "name": "stdout",
     "output_type": "stream",
     "text": [
      "2019-12-30 14:01:47\n",
      "----------------------\n",
      "python\t\t3.6.7\n",
      "----------------------\n",
      "numpy\t\t1.16.2\n",
      "scipy\t\t1.1.0\n",
      "pandas\t\t0.25.1\n",
      "matplotlib\t3.1.1\n",
      "imageio\t\t2.5.0\n",
      "----------------------\n",
      "ipython\t\t7.8.0\n",
      "----------------------\n",
      "sklearn\t\t0.20.4\n",
      "tensorflow\t1.13.1\n",
      "nltk\t\t3.2.4\n"
     ]
    }
   ],
   "source": [
    "import sys\n",
    "import numpy as np\n",
    "import scipy\n",
    "import pandas as pd\n",
    "import matplotlib\n",
    "import matplotlib.pyplot as plt\n",
    "import imageio\n",
    "import IPython\n",
    "import sklearn\n",
    "import tensorflow as tf\n",
    "import nltk\n",
    "\n",
    "from IPython.display import Image\n",
    "%matplotlib inline\n",
    "\n",
    "import datetime\n",
    "dt = datetime.datetime.now()\n",
    "\n",
    "print(\n",
    "\"\"\"{}-{:02d}-{:02d} {:02d}:{:02d}:{:02d}\n",
    "----------------------\n",
    "python\\t\\t{}.{}.{}\n",
    "----------------------\n",
    "numpy\\t\\t{}\n",
    "scipy\\t\\t{}\n",
    "pandas\\t\\t{}\n",
    "matplotlib\\t{}\n",
    "imageio\\t\\t{}\n",
    "----------------------\n",
    "ipython\\t\\t{}\n",
    "----------------------\n",
    "sklearn\\t\\t{}\n",
    "tensorflow\\t{}\n",
    "nltk\\t\\t{}\"\"\"\n",
    "    .format(dt.year, dt.month, dt.day, dt.hour, dt.minute, dt.second, \n",
    "            sys.version_info.major, sys.version_info.minor, sys.version_info.micro,\n",
    "            np.__version__, \n",
    "            scipy.__version__, \n",
    "            pd.__version__, \n",
    "            matplotlib.__version__, \n",
    "            imageio.__version__,\n",
    "            IPython.__version__, \n",
    "            sklearn.__version__, \n",
    "            tf.__version__,\n",
    "            nltk.__version__))\n",
    "\n",
    "c = {'b': '#1f77b4', #blue\n",
    "     'o': '#ff7f0e', #orange\n",
    "     'g': '#2ca02c', #green\n",
    "     'r': '#d62728', #red\n",
    "     'v': '#9467bd', #violet\n",
    "     'br': '#8c564b', #brown\n",
    "     'p': '#e377c2', #pink\n",
    "     'gr': '#7f7f7f', #grey\n",
    "     'y': '#bcbd22', #yellow\n",
    "     'c': '#17becf'} #cyan"
   ]
  },
  {
   "cell_type": "markdown",
   "metadata": {},
   "source": [
    "## 12.01. Modeling complex functions with artificial neural entworks\n",
    "\n",
    "### 12.01.01. Single-layer neural network recap\n",
    "### 12.01.02. Introducing the multilayer neural network architecture"
   ]
  },
  {
   "cell_type": "markdown",
   "metadata": {},
   "source": [
    "### 12.01.03. Activating a neural network via forward propagation"
   ]
  },
  {
   "cell_type": "code",
   "execution_count": 11,
   "metadata": {},
   "outputs": [
    {
     "data": {
      "image/png": "[encoded data removed]",
      "text/plain": [
       "<Figure size 360x360 with 1 Axes>"
      ]
     },
     "metadata": {},
     "output_type": "display_data"
    }
   ],
   "source": [
    "def phi(z):\n",
    "    return 1 / (1 + np.exp(-z))\n",
    "\n",
    "z0, z1 = -8, 8\n",
    "z = np.linspace(z0, z1, 100)\n",
    "\n",
    "fig, ax = plt.subplots(figsize=(5, 5), facecolor='w')\n",
    "ax.set_facecolor('w')\n",
    "\n",
    "ax.plot(z, phi(z), color=c['b'], label=r'$\\phi (z) = \\frac{1}{1 + e^{-z}}$')\n",
    "ax.grid(True)\n",
    "ax.legend(loc='lower right')\n",
    "ax.set(title='Sigmoid function', xlabel=r'$z$', ylabel=r'$\\phi(z)$')\n",
    "ax.set_xlim(z0, z1)\n",
    "\n",
    "plt.tight_layout()\n",
    "# plt.savefig('fig/1204.png')\n",
    "plt.show()"
   ]
  },
  {
   "cell_type": "markdown",
   "metadata": {},
   "source": [
    "## 12.02. Classifying handwritten digits\n",
    "### 12.02.01 Obtaining and preparing the MNIST dataset"
   ]
  },
  {
   "cell_type": "code",
   "execution_count": 9,
   "metadata": {},
   "outputs": [],
   "source": [
    "import os\n",
    "import struct\n",
    "import numpy\n",
    "\n",
    "def load_mnist(path, kind='train'):\n",
    "    \"\"\"Load MNIST data drom 'path'\"\"\"\n",
    "    labels_path = os.path.join(path, \n",
    "                               '%s-labels.idx1-ubyte' % kind)\n",
    "    images_path = os.path.join(path, \n",
    "                               '%s-images.idx3-ubyte' % kind)\n",
    "    \n",
    "    with open(labels_path, 'rb') as lbpath:\n",
    "        magic, n = struct.unpack('>II', \n",
    "                                 lbpath.read(8))\n",
    "        labels = np.fromfile(lbpath, \n",
    "                             dtype=np.uint8)\n",
    "        \n",
    "    with open(images_path, 'rb') as imgpath:\n",
    "        magic, num, rows, cols = struct.unpack('>IIII', \n",
    "                                               imgpath.read(16))\n",
    "        images = np.fromfile(imgpath, \n",
    "                             dtype=np.uint8).reshape(len(labels), \n",
    "                                                     784)\n",
    "        images = ((images / 255.) - .5) * 2\n",
    "        \n",
    "    return images, labels"
   ]
  },
  {
   "cell_type": "code",
   "execution_count": 10,
   "metadata": {},
   "outputs": [
    {
     "name": "stdout",
     "output_type": "stream",
     "text": [
      "Rows: 60000, columns: 784\n",
      "Rows: 10000, columns: 784\n"
     ]
    }
   ],
   "source": [
    "X_train, y_train = load_mnist('data', kind='train')\n",
    "print('Rows: %d, columns: %d' % (X_train.shape[0], X_train.shape[1]))\n",
    "\n",
    "X_test, y_test = load_mnist('data', kind='t10k')\n",
    "print('Rows: %d, columns: %d' % (X_test.shape[0], X_test.shape[1]))"
   ]
  },
  {
   "cell_type": "code",
   "execution_count": 12,
   "metadata": {},
   "outputs": [
    {
     "data": {
      "image/png": "[encoded data removed]",
      "text/plain": [
       "<Figure size 432x288 with 10 Axes>"
      ]
     },
     "metadata": {},
     "output_type": "display_data"
    }
   ],
   "source": [
    "import matplotlib.pyplot as plt\n",
    "\n",
    "fig, ax = plt.subplots(nrows=2, ncols=5, sharex=True, sharey=True, facecolor='w')\n",
    "\n",
    "ax = ax.flatten()\n",
    "\n",
    "for i in range(10):\n",
    "    img = X_train[y_train == i][0].reshape(28, 28)\n",
    "    ax[i].imshow(img, cmap='Greys')\n",
    "    \n",
    "ax[0].set_xticks([])\n",
    "ax[0].set_yticks([])\n",
    "plt.tight_layout()\n",
    "plt.show()"
   ]
  },
  {
   "cell_type": "code",
   "execution_count": 13,
   "metadata": {},
   "outputs": [
    {
     "data": {
      "image/png": "[encoded data removed]",
      "text/plain": [
       "<Figure size 432x288 with 25 Axes>"
      ]
     },
     "metadata": {},
     "output_type": "display_data"
    }
   ],
   "source": [
    "fig, ax = plt.subplots(nrows=5, ncols=5, sharex=True, sharey=True, facecolor='w')\n",
    "\n",
    "ax = ax.flatten()\n",
    "\n",
    "for i in range(25):\n",
    "    img = X_train[y_train == 7][i].reshape(28, 28)\n",
    "    ax[i].imshow(img, cmap='Greys')\n",
    "    \n",
    "ax[0].set_xticks([])\n",
    "ax[0].set_yticks([])\n",
    "plt.tight_layout()\n",
    "plt.show()"
   ]
  },
  {
   "cell_type": "code",
   "execution_count": 16,
   "metadata": {},
   "outputs": [],
   "source": [
    "import numpy as np\n",
    "np.savez_compressed('data/mnist_scaled.npz', \n",
    "                          X_train=X_train, \n",
    "                          y_train=y_train, \n",
    "                          X_test=X_test, \n",
    "                          y_test=y_test)"
   ]
  },
  {
   "cell_type": "code",
   "execution_count": 17,
   "metadata": {},
   "outputs": [],
   "source": [
    "mnist = np.load('data/mnist_scaled.npz')"
   ]
  },
  {
   "cell_type": "code",
   "execution_count": 18,
   "metadata": {},
   "outputs": [
    {
     "data": {
      "text/plain": [
       "['X_train', 'y_train', 'X_test', 'y_test']"
      ]
     },
     "execution_count": 18,
     "metadata": {},
     "output_type": "execute_result"
    }
   ],
   "source": [
    "mnist.files"
   ]
  },
  {
   "cell_type": "code",
   "execution_count": 19,
   "metadata": {},
   "outputs": [],
   "source": [
    "X_train, y_train, X_test, y_test = [mnist[f] for f in mnist.files]"
   ]
  },
  {
   "cell_type": "markdown",
   "metadata": {},
   "source": [
    "### 12.02.02. Implementing a multilayer perceptron"
   ]
  },
  {
   "cell_type": "code",
   "execution_count": 20,
   "metadata": {},
   "outputs": [],
   "source": [
    "import numpy as np\n",
    "import sys\n",
    "\n",
    "\n",
    "class NeuralNetMLP(object):\n",
    "    \"\"\" Feedforward neural network / Multi-layer perceptron classifier.\n",
    "\n",
    "    Parameters\n",
    "    ------------\n",
    "    n_hidden : int (default: 30)\n",
    "        Number of hidden units.\n",
    "    l2 : float (default: 0.)\n",
    "        Lambda value for L2-regularization.\n",
    "        No regularization if l2=0. (default)\n",
    "    epochs : int (default: 100)\n",
    "        Number of passes over the training set.\n",
    "    eta : float (default: 0.001)\n",
    "        Learning rate.\n",
    "    shuffle : bool (default: True)\n",
    "        Shuffles training data every epoch if True to prevent circles.\n",
    "    minibatch_size : int (default: 1)\n",
    "        Number of training examples per minibatch.\n",
    "    seed : int (default: None)\n",
    "        Random seed for initializing weights and shuffling.\n",
    "\n",
    "    Attributes\n",
    "    -----------\n",
    "    eval_ : dict\n",
    "      Dictionary collecting the cost, training accuracy,\n",
    "      and validation accuracy for each epoch during training.\n",
    "\n",
    "    \"\"\"\n",
    "    def __init__(self, n_hidden=30,\n",
    "                 l2=0., epochs=100, eta=0.001,\n",
    "                 shuffle=True, minibatch_size=1, seed=None):\n",
    "\n",
    "        self.random = np.random.RandomState(seed)\n",
    "        self.n_hidden = n_hidden\n",
    "        self.l2 = l2\n",
    "        self.epochs = epochs\n",
    "        self.eta = eta\n",
    "        self.shuffle = shuffle\n",
    "        self.minibatch_size = minibatch_size\n",
    "\n",
    "    def _onehot(self, y, n_classes):\n",
    "        \"\"\"Encode labels into one-hot representation\n",
    "\n",
    "        Parameters\n",
    "        ------------\n",
    "        y : array, shape = [n_examples]\n",
    "            Target values.\n",
    "\n",
    "        Returns\n",
    "        -----------\n",
    "        onehot : array, shape = (n_examples, n_labels)\n",
    "\n",
    "        \"\"\"\n",
    "        onehot = np.zeros((n_classes, y.shape[0]))\n",
    "        for idx, val in enumerate(y.astype(int)):\n",
    "            onehot[val, idx] = 1.\n",
    "        return onehot.T\n",
    "\n",
    "    def _sigmoid(self, z):\n",
    "        \"\"\"Compute logistic function (sigmoid)\"\"\"\n",
    "        return 1. / (1. + np.exp(-np.clip(z, -250, 250)))\n",
    "\n",
    "    def _forward(self, X):\n",
    "        \"\"\"Compute forward propagation step\"\"\"\n",
    "\n",
    "        # step 1: net input of hidden layer\n",
    "        # [n_examples, n_features] dot [n_features, n_hidden]\n",
    "        # -> [n_examples, n_hidden]\n",
    "        z_h = np.dot(X, self.w_h) + self.b_h\n",
    "\n",
    "        # step 2: activation of hidden layer\n",
    "        a_h = self._sigmoid(z_h)\n",
    "\n",
    "        # step 3: net input of output layer\n",
    "        # [n_examples, n_hidden] dot [n_hidden, n_classlabels]\n",
    "        # -> [n_examples, n_classlabels]\n",
    "\n",
    "        z_out = np.dot(a_h, self.w_out) + self.b_out\n",
    "\n",
    "        # step 4: activation output layer\n",
    "        a_out = self._sigmoid(z_out)\n",
    "\n",
    "        return z_h, a_h, z_out, a_out\n",
    "\n",
    "    def _compute_cost(self, y_enc, output):\n",
    "        \"\"\"Compute cost function.\n",
    "\n",
    "        Parameters\n",
    "        ----------\n",
    "        y_enc : array, shape = (n_examples, n_labels)\n",
    "            one-hot encoded class labels.\n",
    "        output : array, shape = [n_examples, n_output_units]\n",
    "            Activation of the output layer (forward propagation)\n",
    "\n",
    "        Returns\n",
    "        ---------\n",
    "        cost : float\n",
    "            Regularized cost\n",
    "\n",
    "        \"\"\"\n",
    "        L2_term = (self.l2 *\n",
    "                   (np.sum(self.w_h ** 2.) +\n",
    "                    np.sum(self.w_out ** 2.)))\n",
    "\n",
    "        term1 = -y_enc * (np.log(output))\n",
    "        term2 = (1. - y_enc) * np.log(1. - output)\n",
    "        cost = np.sum(term1 - term2) + L2_term\n",
    "        \n",
    "        # If you are applying this cost function to other\n",
    "        # datasets where activation\n",
    "        # values maybe become more extreme (closer to zero or 1)\n",
    "        # you may encounter \"ZeroDivisionError\"s due to numerical\n",
    "        # instabilities in Python & NumPy for the current implementation.\n",
    "        # I.e., the code tries to evaluate log(0), which is undefined.\n",
    "        # To address this issue, you could add a small constant to the\n",
    "        # activation values that are passed to the log function.\n",
    "        #\n",
    "        # For example:\n",
    "        #\n",
    "        # term1 = -y_enc * (np.log(output + 1e-5))\n",
    "        # term2 = (1. - y_enc) * np.log(1. - output + 1e-5)\n",
    "        \n",
    "        return cost\n",
    "\n",
    "    def predict(self, X):\n",
    "        \"\"\"Predict class labels\n",
    "\n",
    "        Parameters\n",
    "        -----------\n",
    "        X : array, shape = [n_examples, n_features]\n",
    "            Input layer with original features.\n",
    "\n",
    "        Returns:\n",
    "        ----------\n",
    "        y_pred : array, shape = [n_examples]\n",
    "            Predicted class labels.\n",
    "\n",
    "        \"\"\"\n",
    "        z_h, a_h, z_out, a_out = self._forward(X)\n",
    "        y_pred = np.argmax(z_out, axis=1)\n",
    "        return y_pred\n",
    "\n",
    "    def fit(self, X_train, y_train, X_valid, y_valid):\n",
    "        \"\"\" Learn weights from training data.\n",
    "\n",
    "        Parameters\n",
    "        -----------\n",
    "        X_train : array, shape = [n_examples, n_features]\n",
    "            Input layer with original features.\n",
    "        y_train : array, shape = [n_examples]\n",
    "            Target class labels.\n",
    "        X_valid : array, shape = [n_examples, n_features]\n",
    "            Sample features for validation during training\n",
    "        y_valid : array, shape = [n_examples]\n",
    "            Sample labels for validation during training\n",
    "\n",
    "        Returns:\n",
    "        ----------\n",
    "        self\n",
    "\n",
    "        \"\"\"\n",
    "        n_output = np.unique(y_train).shape[0]  # number of class labels\n",
    "        n_features = X_train.shape[1]\n",
    "\n",
    "        ########################\n",
    "        # Weight initialization\n",
    "        ########################\n",
    "\n",
    "        # weights for input -> hidden\n",
    "        self.b_h = np.zeros(self.n_hidden)\n",
    "        self.w_h = self.random.normal(loc=0.0, scale=0.1,\n",
    "                                      size=(n_features, self.n_hidden))\n",
    "\n",
    "        # weights for hidden -> output\n",
    "        self.b_out = np.zeros(n_output)\n",
    "        self.w_out = self.random.normal(loc=0.0, scale=0.1,\n",
    "                                        size=(self.n_hidden, n_output))\n",
    "\n",
    "        epoch_strlen = len(str(self.epochs))  # for progress formatting\n",
    "        self.eval_ = {'cost': [], 'train_acc': [], 'valid_acc': []}\n",
    "\n",
    "        y_train_enc = self._onehot(y_train, n_output)\n",
    "\n",
    "        # iterate over training epochs\n",
    "        for i in range(self.epochs):\n",
    "\n",
    "            # iterate over minibatches\n",
    "            indices = np.arange(X_train.shape[0])\n",
    "\n",
    "            if self.shuffle:\n",
    "                self.random.shuffle(indices)\n",
    "\n",
    "            for start_idx in range(0, indices.shape[0] - self.minibatch_size +\n",
    "                                   1, self.minibatch_size):\n",
    "                batch_idx = indices[start_idx:start_idx + self.minibatch_size]\n",
    "\n",
    "                # forward propagation\n",
    "                z_h, a_h, z_out, a_out = self._forward(X_train[batch_idx])\n",
    "\n",
    "                ##################\n",
    "                # Backpropagation\n",
    "                ##################\n",
    "\n",
    "                # [n_examples, n_classlabels]\n",
    "                delta_out = a_out - y_train_enc[batch_idx]\n",
    "\n",
    "                # [n_examples, n_hidden]\n",
    "                sigmoid_derivative_h = a_h * (1. - a_h)\n",
    "\n",
    "                # [n_examples, n_classlabels] dot [n_classlabels, n_hidden]\n",
    "                # -> [n_examples, n_hidden]\n",
    "                delta_h = (np.dot(delta_out, self.w_out.T) *\n",
    "                           sigmoid_derivative_h)\n",
    "\n",
    "                # [n_features, n_examples] dot [n_examples, n_hidden]\n",
    "                # -> [n_features, n_hidden]\n",
    "                grad_w_h = np.dot(X_train[batch_idx].T, delta_h)\n",
    "                grad_b_h = np.sum(delta_h, axis=0)\n",
    "\n",
    "                # [n_hidden, n_examples] dot [n_examples, n_classlabels]\n",
    "                # -> [n_hidden, n_classlabels]\n",
    "                grad_w_out = np.dot(a_h.T, delta_out)\n",
    "                grad_b_out = np.sum(delta_out, axis=0)\n",
    "\n",
    "                # Regularization and weight updates\n",
    "                delta_w_h = (grad_w_h + self.l2*self.w_h)\n",
    "                delta_b_h = grad_b_h # bias is not regularized\n",
    "                self.w_h -= self.eta * delta_w_h\n",
    "                self.b_h -= self.eta * delta_b_h\n",
    "\n",
    "                delta_w_out = (grad_w_out + self.l2*self.w_out)\n",
    "                delta_b_out = grad_b_out  # bias is not regularized\n",
    "                self.w_out -= self.eta * delta_w_out\n",
    "                self.b_out -= self.eta * delta_b_out\n",
    "\n",
    "            #############\n",
    "            # Evaluation\n",
    "            #############\n",
    "\n",
    "            # Evaluation after each epoch during training\n",
    "            z_h, a_h, z_out, a_out = self._forward(X_train)\n",
    "            \n",
    "            cost = self._compute_cost(y_enc=y_train_enc,\n",
    "                                      output=a_out)\n",
    "\n",
    "            y_train_pred = self.predict(X_train)\n",
    "            y_valid_pred = self.predict(X_valid)\n",
    "\n",
    "            train_acc = ((np.sum(y_train == y_train_pred)).astype(np.float) /\n",
    "                         X_train.shape[0])\n",
    "            valid_acc = ((np.sum(y_valid == y_valid_pred)).astype(np.float) /\n",
    "                         X_valid.shape[0])\n",
    "\n",
    "            sys.stderr.write('\\r%0*d/%d | Cost: %.2f '\n",
    "                             '| Train/Valid Acc.: %.2f%%/%.2f%% ' %\n",
    "                             (epoch_strlen, i+1, self.epochs, cost,\n",
    "                              train_acc*100, valid_acc*100))\n",
    "            sys.stderr.flush()\n",
    "\n",
    "            self.eval_['cost'].append(cost)\n",
    "            self.eval_['train_acc'].append(train_acc)\n",
    "            self.eval_['valid_acc'].append(valid_acc)\n",
    "\n",
    "        return self"
   ]
  },
  {
   "cell_type": "code",
   "execution_count": 21,
   "metadata": {},
   "outputs": [],
   "source": [
    "nn = NeuralNetMLP(n_hidden=100, \n",
    "                  l2=.01, \n",
    "                  epochs=200,\n",
    "                  eta=.0005,\n",
    "                  minibatch_size=100,\n",
    "                  shuffle=True,\n",
    "                  seed=1)"
   ]
  },
  {
   "cell_type": "code",
   "execution_count": 22,
   "metadata": {},
   "outputs": [
    {
     "name": "stderr",
     "output_type": "stream",
     "text": [
      "200/200 | Cost: 5065.78 | Train/Valid Acc.: 99.28%/97.98%  "
     ]
    },
    {
     "data": {
      "text/plain": [
       "<__main__.NeuralNetMLP at 0x12ac3e2b0>"
      ]
     },
     "execution_count": 22,
     "metadata": {},
     "output_type": "execute_result"
    }
   ],
   "source": [
    "nn.fit(X_train=X_train[:55000],\n",
    "       y_train=y_train[:55000],\n",
    "       X_valid=X_train[55000:],\n",
    "       y_valid=y_train[55000:],)"
   ]
  },
  {
   "cell_type": "code",
   "execution_count": 27,
   "metadata": {},
   "outputs": [
    {
     "data": {
      "image/png": "[encoded data removed]",
      "text/plain": [
       "<Figure size 432x288 with 1 Axes>"
      ]
     },
     "metadata": {},
     "output_type": "display_data"
    }
   ],
   "source": [
    "fig, ax = plt.subplots(facecolor='w')\n",
    "ax.plot(range(nn.epochs), nn.eval_['cost'])\n",
    "ax.set_ylabel('Cost')\n",
    "ax.set_xlabel('Epochs')\n",
    "plt.tight_layout()\n",
    "plt.show()"
   ]
  },
  {
   "cell_type": "code",
   "execution_count": 29,
   "metadata": {},
   "outputs": [
    {
     "data": {
      "image/png": "[encoded data removed]",
      "text/plain": [
       "<Figure size 432x288 with 1 Axes>"
      ]
     },
     "metadata": {},
     "output_type": "display_data"
    }
   ],
   "source": [
    "fig, ax = plt.subplots(facecolor='w')\n",
    "\n",
    "ax.plot(range(nn.epochs), nn.eval_['train_acc'], label='training')\n",
    "ax.plot(range(nn.epochs), nn.eval_['valid_acc'], label='validation', linestyle='--')\n",
    "\n",
    "ax.set_ylabel('Accuracy')\n",
    "ax.set_xlabel('Epochs')\n",
    "ax.legend(loc='lower right')\n",
    "ax.grid(True)\n",
    "plt.tight_layout()\n",
    "plt.show()"
   ]
  },
  {
   "cell_type": "markdown",
   "metadata": {},
   "source": [
    "## 12.03. Training an artificial neural network\n",
    "### 12.03.01. Computing the  logistic cost function\n",
    "### 12.03.02. Developing your understanding of backpropagation\n",
    "### 12.03.03. Training neural networks via backpropagation\n",
    "## 12.04. About the convergence in neural networks\n",
    "## 12.05. A few last words about the neural network implementation\n",
    "## 12.06. Summary"
   ]
  },
  {
   "cell_type": "markdown",
   "metadata": {},
   "source": [
    "- [12.01. Modeling complex functions with artificial neural entworks][1201]\n",
    "    - [12.01.01. Single-layer neural network recap][120101]\n",
    "    - [12.01.02. Introducing the multilayer neural network architecture][120102]\n",
    "    - [12.01.03. Activating a neural network via forward propagation][120103]\n",
    "- [12.02. Classifying handwritten digits][1202]\n",
    "    - [12.02.01 Obtaining and preparing the MNIST dataset][120201]\n",
    "    - [12.02.02. Implementing a multilayer perceptron][120202]\n",
    "- [12.03. Training an artificial neural network][1203]\n",
    "    - [12.03.01. Computing the  logistic cost function][120301]\n",
    "    - [12.03.02. Developing your understanding of backpropagation][120302]\n",
    "    - [12.03.03. Training neural networks via backpropagation][120303]\n",
    "- [12.04. About the convergence in neural networks][1204]\n",
    "- [12.05. A few last words about the neural network implementation][1205]\n",
    "- [12.06. Summary][1206]\n",
    "\n",
    "[1201]: #1201-modeling-complex-functions-with-artificial-neural-entworks\n",
    "[120101]: #120101-Single-layer-neural-network-recap\n",
    "[120102]: #120102-Introducing-the-multilayer-neural-network-architecture\n",
    "[120103]: #120103-Activating-a-neural-network-via-forward-propagation\n",
    "[1202]: #1202-Classifying-handwritten-digits\n",
    "[120201]: #120201-Obtaining-and-preparing-the-MNIST-dataset\n",
    "[120202]: #120202-Implementing-a-multilayer-perceptron\n",
    "[1203]: #1203-Training-an-artificial-neural-network\n",
    "[120301]: #120301-Computing-the--logistic-cost-function\n",
    "[120302]: #120302-Developing-your-understanding-of-backpropagation\n",
    "[120303]: #120303-Training-neural-networks-via-backpropagation\n",
    "[1204]: #1204-About-the-convergence-in-neural-networks\n",
    "[1205]: #1205-A-few-last-words-about-the-neural-network-implementation\n",
    "[1206]: #1206-Summary"
   ]
  },
  {
   "cell_type": "code",
   "execution_count": null,
   "metadata": {},
   "outputs": [],
   "source": []
  }
 ],
 "metadata": {
  "kernelspec": {
   "display_name": "Python 3",
   "language": "python",
   "name": "python3"
  },
  "language_info": {
   "codemirror_mode": {
    "name": "ipython",
    "version": 3
   },
   "file_extension": ".py",
   "mimetype": "text/x-python",
   "name": "python",
   "nbconvert_exporter": "python",
   "pygments_lexer": "ipython3",
   "version": "3.6.7"
  }
 },
 "nbformat": 4,
 "nbformat_minor": 4
}
