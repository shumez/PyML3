{
 "cells": [
  {
   "cell_type": "markdown",
   "metadata": {},
   "source": [
    "# 03. A Tour of Machine Learning Classifiers Using Schikit-Learn"
   ]
  },
  {
   "cell_type": "code",
   "execution_count": 1,
   "metadata": {},
   "outputs": [
    {
     "name": "stdout",
     "output_type": "stream",
     "text": [
      "2020-01-03 16:36:00\n",
      "----------------------\n",
      "python\t\t3.6.7\n",
      "----------------------\n",
      "numpy\t\t1.16.2\n",
      "scipy\t\t1.1.0\n",
      "pandas\t\t0.25.1\n",
      "matplotlib\t3.1.1\n",
      "imageio\t\t2.5.0\n",
      "----------------------\n",
      "ipython\t\t7.8.0\n",
      "----------------------\n",
      "sklearn\t\t0.20.4\n",
      "tensorflow\t1.13.1\n",
      "nltk\t\t3.2.4\n"
     ]
    }
   ],
   "source": [
    "%run -i  'watermark.py'"
   ]
  },
  {
   "cell_type": "markdown",
   "metadata": {},
   "source": [
    "## 03.01. Chosing a classification algorithm\n",
    "## 03.02. First steps with scikit-learn: training a perceptron"
   ]
  },
  {
   "cell_type": "code",
   "execution_count": 3,
   "metadata": {},
   "outputs": [
    {
     "name": "stdout",
     "output_type": "stream",
     "text": [
      "Class labels: [0 1 2]\n"
     ]
    }
   ],
   "source": [
    "from sklearn import datasets\n",
    "import numpy as np\n",
    "\n",
    "iris = datasets.load_iris()\n",
    "X = iris.data[:, [2, 3]]\n",
    "y = iris.target\n",
    "\n",
    "print('Class labels:', np.unique(y))"
   ]
  },
  {
   "cell_type": "markdown",
   "metadata": {},
   "source": [
    "## 03.03. Modeling class probabilities via logistic regression\n",
    "### 03.03.01. Logistic regression intuition & conditional probabilities\n",
    "### 03.03.02. Learning the weights of the logistic cost function\n",
    "### 03.03.03. Converting an Adaline implementation into an algorithm for logistic regression\n",
    "### 03.03.04. Training a logistic regression model with scikit-learn\n",
    "### 03.03.05. Tackling overfitting via regularization\n",
    "## 03.04. Maximum margin classifcation with support vector machines\n",
    "### 03.04.01. Maximum margin intuition\n",
    "### 03.04.02. Dealing with the nonlinearly separable case using slack variables\n",
    "### 03.04.03. Alternative implementations in scikit-learn\n",
    "## 03.05. Solving non-linear problems using a kernel SVM\n",
    "### 03.05.01. Kernel methods for linearly inseparable data\n",
    "### 03.05.02. Using the kernel trick to find separating hyperplanes in higher dimensional space\n",
    "## 03.06. Decision tree learning\n",
    "### 03.06.01. Maximizing information gain  getting the most bang for the buck\n",
    "### 03.06.02. Building a decision tree\n",
    "### 03.06.03. Combining weak to strong learners via random forests\n",
    "## 03.07. K-nearest neighbors a lazy learning algorithm\n",
    "## 03.08. Summary"
   ]
  },
  {
   "cell_type": "markdown",
   "metadata": {},
   "source": [
    "- [03.01. Chosing a classification algorithm][0301]\n",
    "- [03.02. First steps with scikit-learn: training a perceptron][0302]\n",
    "- [03.03. Modeling class probabilities via logistic regression][0303]\n",
    "    - [03.03.01. Logistic regression intuition & conditional probabilities][030301]\n",
    "    - [03.03.02. Learning the weights of the logistic cost function][030302]\n",
    "    - [03.03.03. Converting an Adaline implementation into an ][030303]\n",
    "    - [03.03.04. Training a logistic regression model with scikit-learn][030304]\n",
    "    - [03.03.05. Tackling overfitting via regularization][030305]\n",
    "- [03.04. Maximum margin classifcation with support vector machines][0304]\n",
    "    - [03.04.01. Maximum margin intuition][030401]\n",
    "    - [03.04.02. Dealing with the nonlinearly separable case using slack variables][030402]\n",
    "    - [03.04.03. Alternative implementations in scikit-learn][030403]\n",
    "- [03.05. Solving non-linear problems using a kernel SVM][0305]\n",
    "    - [03.05.01. Kernel methods for linearly inseparable data][030501]\n",
    "    - [03.05.02. Using the kernel trick to find separating hyperplanes in higher dimensional space][030502]\n",
    "- [03.06. Decision tree learning][0306]\n",
    "    - [03.06.01. Maximizing information gain  getting the most bang for the buck][030601]\n",
    "    - [03.06.02. Building a decision tree][030602]\n",
    "    - [03.06.03. Combining weak to strong learners via random forests][030603]\n",
    "- [03.07. K-nearest neighbors a lazy learning algorithm][0307]\n",
    "- [03.08. Summary][0308]"
   ]
  }
 ],
 "metadata": {
  "kernelspec": {
   "display_name": "Python 3",
   "language": "python",
   "name": "python3"
  },
  "language_info": {
   "codemirror_mode": {
    "name": "ipython",
    "version": 3
   },
   "file_extension": ".py",
   "mimetype": "text/x-python",
   "name": "python",
   "nbconvert_exporter": "python",
   "pygments_lexer": "ipython3",
   "version": "3.6.7"
  }
 },
 "nbformat": 4,
 "nbformat_minor": 4
}
